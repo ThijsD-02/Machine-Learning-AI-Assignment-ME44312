{
 "cells": [
  {
   "cell_type": "markdown",
   "metadata": {},
   "source": [
    "If running in a new enviroment, such as Google Colab, run this first."
   ]
  },
  {
   "cell_type": "code",
<<<<<<< HEAD
   "execution_count": 3,
=======
   "execution_count": 20,
>>>>>>> db595fc0b6f4e35ddf6e4a0e2b4f51d56cd3078a
   "metadata": {},
   "outputs": [
    {
     "name": "stdout",
     "output_type": "stream",
     "text": [
      "Collecting rst2pdf\n",
      "  Downloading rst2pdf-0.103.1-py3-none-any.whl.metadata (7.6 kB)\n",
      "Requirement already satisfied: docutils~=0.21.2 in c:\\users\\thijs\\anaconda3\\envs\\me44312\\lib\\site-packages (from rst2pdf) (0.21.2)\n",
      "Requirement already satisfied: importlib-metadata~=8.0 in c:\\users\\thijs\\anaconda3\\envs\\me44312\\lib\\site-packages (from rst2pdf) (8.6.1)\n",
      "Requirement already satisfied: jinja2~=3.0 in c:\\users\\thijs\\anaconda3\\envs\\me44312\\lib\\site-packages (from rst2pdf) (3.1.5)\n",
      "Requirement already satisfied: packaging~=24.0 in c:\\users\\thijs\\anaconda3\\envs\\me44312\\lib\\site-packages (from rst2pdf) (24.2)\n",
      "Requirement already satisfied: pygments~=2.0 in c:\\users\\thijs\\anaconda3\\envs\\me44312\\lib\\site-packages (from rst2pdf) (2.19.1)\n",
      "Collecting pyyaml~=6.0 (from rst2pdf)\n",
      "  Downloading PyYAML-6.0.2-cp313-cp313-win_amd64.whl.metadata (2.1 kB)\n",
      "Collecting reportlab~=4.0 (from rst2pdf)\n",
      "  Downloading reportlab-4.3.1-py3-none-any.whl.metadata (1.7 kB)\n",
      "Collecting smartypants~=2.0 (from rst2pdf)\n",
      "  Downloading smartypants-2.0.1-py2.py3-none-any.whl.metadata (1.9 kB)\n",
      "Requirement already satisfied: zipp>=3.20 in c:\\users\\thijs\\anaconda3\\envs\\me44312\\lib\\site-packages (from importlib-metadata~=8.0->rst2pdf) (3.21.0)\n",
      "Requirement already satisfied: MarkupSafe>=2.0 in c:\\users\\thijs\\anaconda3\\envs\\me44312\\lib\\site-packages (from jinja2~=3.0->rst2pdf) (3.0.2)\n",
      "Requirement already satisfied: pillow>=9.0.0 in c:\\users\\thijs\\anaconda3\\envs\\me44312\\lib\\site-packages (from reportlab~=4.0->rst2pdf) (11.1.0)\n",
      "Collecting chardet (from reportlab~=4.0->rst2pdf)\n",
      "  Downloading chardet-5.2.0-py3-none-any.whl.metadata (3.4 kB)\n",
      "Downloading rst2pdf-0.103.1-py3-none-any.whl (177 kB)\n",
      "Downloading PyYAML-6.0.2-cp313-cp313-win_amd64.whl (156 kB)\n",
      "Downloading reportlab-4.3.1-py3-none-any.whl (1.9 MB)\n",
      "   ---------------------------------------- 0.0/1.9 MB ? eta -:--:--\n",
      "   ---------------------------------------- 1.9/1.9 MB 24.0 MB/s eta 0:00:00\n",
      "Downloading smartypants-2.0.1-py2.py3-none-any.whl (9.9 kB)\n",
      "Downloading chardet-5.2.0-py3-none-any.whl (199 kB)\n",
      "Installing collected packages: smartypants, pyyaml, chardet, reportlab, rst2pdf\n",
      "Successfully installed chardet-5.2.0 pyyaml-6.0.2 reportlab-4.3.1 rst2pdf-0.103.1 smartypants-2.0.1\n"
     ]
    }
   ],
   "source": [
    "# !git clone https://github.com/zach401/acnportal.git\n",
    "#!pip install acnportal\n",
    "#!pip install nbsphinx\n",
    "#!pip install nbsphinx-link\n",
    "#!pip install sphinx_rtd_theme\n",
    "#!pip install jupyter_client\n",
    "#!pip install ipykernel\n",
    "!pip install rst2pdf\n"
   ]
  },
  {
   "cell_type": "markdown",
   "metadata": {},
   "source": [
    "# ACN-Sim Tutorial: Lesson 1\n",
    "## Running an Experiment\n",
    "### by Zachary Lee\n",
    "#### Last updated: 03/19/2019\n",
    "\n",
    "In this first lesson we will learn how to setup and run a simulation using a built-in scheduling algorithm. After running the simulation we will learn how to use the analysis subpackage to analyze the results of the simulation."
   ]
  },
  {
   "cell_type": "code",
<<<<<<< HEAD
   "execution_count": 4,
=======
   "execution_count": 10,
>>>>>>> db595fc0b6f4e35ddf6e4a0e2b4f51d56cd3078a
   "metadata": {},
   "outputs": [],
   "source": [
    "import pytz\n",
    "from datetime import datetime\n",
    "\n",
    "import matplotlib.pyplot as plt\n",
    "\n",
    "from acnportal import acnsim\n",
    "from acnportal import algorithms"
   ]
  },
  {
   "cell_type": "markdown",
   "metadata": {},
   "source": [
    "### Experiment Parameters \n",
    "\n",
    "Next we need to define some parameters of the experiment. We define these at the begining of the file so they can be used consistently when setting up the simulation."
   ]
  },
  {
   "cell_type": "code",
<<<<<<< HEAD
   "execution_count": 5,
=======
   "execution_count": 11,
>>>>>>> db595fc0b6f4e35ddf6e4a0e2b4f51d56cd3078a
   "metadata": {},
   "outputs": [],
   "source": [
    "# Timezone of the ACN we are using.\n",
    "timezone = pytz.timezone('America/Los_Angeles')\n",
    "\n",
    "# Start and End times are used when collecting data.\n",
    "start = timezone.localize(datetime(2018, 9, 5))\n",
    "end = timezone.localize(datetime(2018, 9, 6))\n",
    "\n",
    "# How long each time discrete time interval in the simulation should be.\n",
    "period = 5  # minutes\n",
    "\n",
    "# Voltage of the network.\n",
    "voltage = 220  # volts\n",
    "\n",
    "# Default maximum charging rate for each EV battery.\n",
    "default_battery_power = 32 * voltage / 1000 # kW\n",
    "\n",
    "# Identifier of the site where data will be gathered.\n",
    "site = 'caltech'"
   ]
  },
  {
   "cell_type": "markdown",
   "metadata": {},
   "source": [
    "### Network \n",
    "\n",
    "An important part of any simulation is the ChargingNetwork on which it runs. The ChargingNetwork is a description of the physical system and contains both the set of EVSEs which make up the network as well as a constraint_matrix which represents the electrical infrastructure of the network. You can manually configure this network using the register_evse() and add_constraint() methods in ChargingNetwork or you can use a predefined network available in the sites module. In this case we use the predefined CaltechACN network."
   ]
  },
  {
   "cell_type": "code",
<<<<<<< HEAD
   "execution_count": 6,
=======
   "execution_count": 12,
>>>>>>> db595fc0b6f4e35ddf6e4a0e2b4f51d56cd3078a
   "metadata": {},
   "outputs": [],
   "source": [
    "# For this experiment we use the predefined CaltechACN network.\n",
    "cn = acnsim.sites.caltech_acn(basic_evse=True, voltage=voltage)"
   ]
  },
  {
   "cell_type": "markdown",
   "metadata": {},
   "source": [
    "### Events\n",
    "\n",
    "Events are what drive action in the simulator. Events are stored in an EventQueue. This queue can be built manually by creating an Event object and using the add_event() or add_events() methods, or can be generated automatically.\n",
    "\n",
    "In this case we will use acndata_events.generate_events() which is part of the events subpackage. acnevents provides utilities for generating events from the Caltech Charging Dataset. These events are based on real behavior of users charging actual EVs, so it is extremely valuable for running realistic simulations. In order to access the API we need a token. For now we can use the demo token, but it is highly recomended that you register for your own free token at ev.caltech.edu."
   ]
  },
  {
   "cell_type": "code",
<<<<<<< HEAD
   "execution_count": 7,
=======
   "execution_count": 13,
>>>>>>> db595fc0b6f4e35ddf6e4a0e2b4f51d56cd3078a
   "metadata": {},
   "outputs": [],
   "source": [
    "API_KEY = 'DEMO_TOKEN'\n",
    "events = acnsim.acndata_events.generate_events(API_KEY, site, start, end, period, voltage, default_battery_power)"
   ]
  },
  {
   "cell_type": "markdown",
   "metadata": {},
   "source": [
    "### Scheduling Algorithm\n",
    "\n",
    "The primary purpose of acnportal is to evaluate scheduling algorithms for large-scale EV charging. We will discuss how develop your own custom algorithm in Lesson 2, for now we will use one of the builtin scheduling algorithms, UncontrolledCharging."
   ]
  },
  {
   "cell_type": "code",
<<<<<<< HEAD
   "execution_count": 8,
=======
   "execution_count": 14,
>>>>>>> db595fc0b6f4e35ddf6e4a0e2b4f51d56cd3078a
   "metadata": {},
   "outputs": [],
   "source": [
    "sch = algorithms.UncontrolledCharging()"
   ]
  },
  {
   "cell_type": "markdown",
   "metadata": {},
   "source": [
    "### Simulator\n",
    "\n",
    "We next need to set up our simulation enviroment using the parts we have already defined. The Simulator constructor takes in a ChargingNetwork, Algorithm, and EventQueue. We also provide the start time of the simulation which all internal timestamps will be measured relative to. Finally we pass in the length of each period as well as a parameter called max_recomp. max_recomp controls how often the scheduling algorithm is called when no events occur. Here we have set max_recomp to 1, meaning the scheduling algorithm will be called every time step. If we had set it to 5, up to 5 time steps could occur before the scheduling algorithm was called. Note that the scheduling algorithm is always called when an event occurs. In this case, UncontrolledCharging only provides one charging rate, so it must be used with a max_recomp of 1."
   ]
  },
  {
   "cell_type": "code",
<<<<<<< HEAD
   "execution_count": 9,
=======
   "execution_count": 15,
>>>>>>> db595fc0b6f4e35ddf6e4a0e2b4f51d56cd3078a
   "metadata": {},
   "outputs": [],
   "source": [
    "sim = acnsim.Simulator(cn, sch, events, start, period=period, verbose=False)"
   ]
  },
  {
   "cell_type": "markdown",
   "metadata": {},
   "source": [
    "To execute the simulation we simply call the run() function."
   ]
  },
  {
   "cell_type": "code",
<<<<<<< HEAD
   "execution_count": 10,
=======
   "execution_count": 16,
>>>>>>> db595fc0b6f4e35ddf6e4a0e2b4f51d56cd3078a
   "metadata": {},
   "outputs": [
    {
     "name": "stderr",
     "output_type": "stream",
     "text": [
<<<<<<< HEAD
      "c:\\Users\\alene\\Virtual_environments\\ME44312-2\\Lib\\site-packages\\acnportal\\acnsim\\simulator.py:277: UserWarning: Invalid schedule provided at iteration 84. Max violation is 15.999989999999997 A on AV Pod at time index 0.\n",
      "  warnings.warn(\n",
      "c:\\Users\\alene\\Virtual_environments\\ME44312-2\\Lib\\site-packages\\acnportal\\acnsim\\simulator.py:277: UserWarning: Invalid schedule provided at iteration 85. Max violation is 15.999989999999997 A on AV Pod at time index 0.\n",
      "  warnings.warn(\n",
      "c:\\Users\\alene\\Virtual_environments\\ME44312-2\\Lib\\site-packages\\acnportal\\acnsim\\simulator.py:277: UserWarning: Invalid schedule provided at iteration 86. Max violation is 15.999989999999997 A on AV Pod at time index 0.\n",
      "  warnings.warn(\n",
      "c:\\Users\\alene\\Virtual_environments\\ME44312-2\\Lib\\site-packages\\acnportal\\acnsim\\simulator.py:277: UserWarning: Invalid schedule provided at iteration 87. Max violation is 15.999989999999997 A on AV Pod at time index 0.\n",
      "  warnings.warn(\n",
      "c:\\Users\\alene\\Virtual_environments\\ME44312-2\\Lib\\site-packages\\acnportal\\acnsim\\simulator.py:277: UserWarning: Invalid schedule provided at iteration 88. Max violation is 15.999989999999997 A on AV Pod at time index 0.\n",
      "  warnings.warn(\n",
      "c:\\Users\\alene\\Virtual_environments\\ME44312-2\\Lib\\site-packages\\acnportal\\acnsim\\simulator.py:277: UserWarning: Invalid schedule provided at iteration 89. Max violation is 47.99999 A on AV Pod at time index 0.\n",
      "  warnings.warn(\n",
      "c:\\Users\\alene\\Virtual_environments\\ME44312-2\\Lib\\site-packages\\acnportal\\acnsim\\simulator.py:277: UserWarning: Invalid schedule provided at iteration 90. Max violation is 47.99999 A on AV Pod at time index 0.\n",
      "  warnings.warn(\n",
      "c:\\Users\\alene\\Virtual_environments\\ME44312-2\\Lib\\site-packages\\acnportal\\acnsim\\simulator.py:277: UserWarning: Invalid schedule provided at iteration 91. Max violation is 47.99999 A on AV Pod at time index 0.\n",
      "  warnings.warn(\n",
      "c:\\Users\\alene\\Virtual_environments\\ME44312-2\\Lib\\site-packages\\acnportal\\acnsim\\simulator.py:277: UserWarning: Invalid schedule provided at iteration 92. Max violation is 15.999989999999997 A on AV Pod at time index 0.\n",
      "  warnings.warn(\n",
      "c:\\Users\\alene\\Virtual_environments\\ME44312-2\\Lib\\site-packages\\acnportal\\acnsim\\simulator.py:277: UserWarning: Invalid schedule provided at iteration 93. Max violation is 47.99999 A on AV Pod at time index 0.\n",
      "  warnings.warn(\n",
      "c:\\Users\\alene\\Virtual_environments\\ME44312-2\\Lib\\site-packages\\acnportal\\acnsim\\simulator.py:277: UserWarning: Invalid schedule provided at iteration 94. Max violation is 47.99999 A on AV Pod at time index 0.\n",
      "  warnings.warn(\n",
      "c:\\Users\\alene\\Virtual_environments\\ME44312-2\\Lib\\site-packages\\acnportal\\acnsim\\simulator.py:277: UserWarning: Invalid schedule provided at iteration 95. Max violation is 79.99999 A on AV Pod at time index 0.\n",
      "  warnings.warn(\n",
      "c:\\Users\\alene\\Virtual_environments\\ME44312-2\\Lib\\site-packages\\acnportal\\acnsim\\simulator.py:277: UserWarning: Invalid schedule provided at iteration 96. Max violation is 79.99999 A on AV Pod at time index 0.\n",
      "  warnings.warn(\n",
      "c:\\Users\\alene\\Virtual_environments\\ME44312-2\\Lib\\site-packages\\acnportal\\acnsim\\simulator.py:277: UserWarning: Invalid schedule provided at iteration 97. Max violation is 79.99999 A on AV Pod at time index 0.\n",
      "  warnings.warn(\n",
      "c:\\Users\\alene\\Virtual_environments\\ME44312-2\\Lib\\site-packages\\acnportal\\acnsim\\simulator.py:277: UserWarning: Invalid schedule provided at iteration 98. Max violation is 79.99999 A on AV Pod at time index 0.\n",
      "  warnings.warn(\n",
      "c:\\Users\\alene\\Virtual_environments\\ME44312-2\\Lib\\site-packages\\acnportal\\acnsim\\simulator.py:277: UserWarning: Invalid schedule provided at iteration 99. Max violation is 79.99999 A on AV Pod at time index 0.\n",
      "  warnings.warn(\n",
      "c:\\Users\\alene\\Virtual_environments\\ME44312-2\\Lib\\site-packages\\acnportal\\acnsim\\simulator.py:277: UserWarning: Invalid schedule provided at iteration 100. Max violation is 79.99999 A on AV Pod at time index 0.\n",
      "  warnings.warn(\n",
      "c:\\Users\\alene\\Virtual_environments\\ME44312-2\\Lib\\site-packages\\acnportal\\acnsim\\simulator.py:277: UserWarning: Invalid schedule provided at iteration 101. Max violation is 79.99999 A on AV Pod at time index 0.\n",
      "  warnings.warn(\n",
      "c:\\Users\\alene\\Virtual_environments\\ME44312-2\\Lib\\site-packages\\acnportal\\acnsim\\simulator.py:277: UserWarning: Invalid schedule provided at iteration 102. Max violation is 79.99999 A on CC Pod at time index 0.\n",
      "  warnings.warn(\n",
      "c:\\Users\\alene\\Virtual_environments\\ME44312-2\\Lib\\site-packages\\acnportal\\acnsim\\simulator.py:277: UserWarning: Invalid schedule provided at iteration 103. Max violation is 79.99999 A on CC Pod at time index 0.\n",
      "  warnings.warn(\n",
      "c:\\Users\\alene\\Virtual_environments\\ME44312-2\\Lib\\site-packages\\acnportal\\acnsim\\simulator.py:277: UserWarning: Invalid schedule provided at iteration 104. Max violation is 79.99999 A on CC Pod at time index 0.\n",
      "  warnings.warn(\n",
      "c:\\Users\\alene\\Virtual_environments\\ME44312-2\\Lib\\site-packages\\acnportal\\acnsim\\simulator.py:277: UserWarning: Invalid schedule provided at iteration 105. Max violation is 111.99999 A on CC Pod at time index 0.\n",
      "  warnings.warn(\n",
      "c:\\Users\\alene\\Virtual_environments\\ME44312-2\\Lib\\site-packages\\acnportal\\acnsim\\simulator.py:277: UserWarning: Invalid schedule provided at iteration 106. Max violation is 112.06009587279908 A on Secondary A at time index 0.\n",
      "  warnings.warn(\n",
      "c:\\Users\\alene\\Virtual_environments\\ME44312-2\\Lib\\site-packages\\acnportal\\acnsim\\simulator.py:277: UserWarning: Invalid schedule provided at iteration 107. Max violation is 83.18930259135925 A on Secondary A at time index 0.\n",
      "  warnings.warn(\n",
      "c:\\Users\\alene\\Virtual_environments\\ME44312-2\\Lib\\site-packages\\acnportal\\acnsim\\simulator.py:277: UserWarning: Invalid schedule provided at iteration 108. Max violation is 112.06009587279908 A on Secondary A at time index 0.\n",
      "  warnings.warn(\n",
      "c:\\Users\\alene\\Virtual_environments\\ME44312-2\\Lib\\site-packages\\acnportal\\acnsim\\simulator.py:277: UserWarning: Invalid schedule provided at iteration 109. Max violation is 110.11980759427178 A on Secondary A at time index 0.\n",
      "  warnings.warn(\n",
      "c:\\Users\\alene\\Virtual_environments\\ME44312-2\\Lib\\site-packages\\acnportal\\acnsim\\simulator.py:277: UserWarning: Invalid schedule provided at iteration 110. Max violation is 138.51257366605245 A on Secondary A at time index 0.\n",
      "  warnings.warn(\n",
      "c:\\Users\\alene\\Virtual_environments\\ME44312-2\\Lib\\site-packages\\acnportal\\acnsim\\simulator.py:277: UserWarning: Invalid schedule provided at iteration 111. Max violation is 138.51257366605245 A on Secondary A at time index 0.\n",
      "  warnings.warn(\n",
      "c:\\Users\\alene\\Virtual_environments\\ME44312-2\\Lib\\site-packages\\acnportal\\acnsim\\simulator.py:277: UserWarning: Invalid schedule provided at iteration 112. Max violation is 27.89153099572701 A on Secondary A at time index 0.\n",
      "  warnings.warn(\n",
      "c:\\Users\\alene\\Virtual_environments\\ME44312-2\\Lib\\site-packages\\acnportal\\acnsim\\simulator.py:277: UserWarning: Invalid schedule provided at iteration 113. Max violation is 15.999989999999997 A on CC Pod at time index 0.\n",
      "  warnings.warn(\n",
      "c:\\Users\\alene\\Virtual_environments\\ME44312-2\\Lib\\site-packages\\acnportal\\acnsim\\simulator.py:277: UserWarning: Invalid schedule provided at iteration 114. Max violation is 15.999989999999997 A on CC Pod at time index 0.\n",
      "  warnings.warn(\n",
      "c:\\Users\\alene\\Virtual_environments\\ME44312-2\\Lib\\site-packages\\acnportal\\acnsim\\simulator.py:277: UserWarning: Invalid schedule provided at iteration 115. Max violation is 15.999989999999997 A on CC Pod at time index 0.\n",
      "  warnings.warn(\n",
      "c:\\Users\\alene\\Virtual_environments\\ME44312-2\\Lib\\site-packages\\acnportal\\acnsim\\simulator.py:277: UserWarning: Invalid schedule provided at iteration 116. Max violation is 15.999989999999997 A on CC Pod at time index 0.\n",
      "  warnings.warn(\n",
      "c:\\Users\\alene\\Virtual_environments\\ME44312-2\\Lib\\site-packages\\acnportal\\acnsim\\simulator.py:277: UserWarning: Invalid schedule provided at iteration 117. Max violation is 15.999989999999997 A on CC Pod at time index 0.\n",
      "  warnings.warn(\n",
      "c:\\Users\\alene\\Virtual_environments\\ME44312-2\\Lib\\site-packages\\acnportal\\acnsim\\simulator.py:277: UserWarning: Invalid schedule provided at iteration 162. Max violation is 15.999989999999997 A on CC Pod at time index 0.\n",
      "  warnings.warn(\n",
      "c:\\Users\\alene\\Virtual_environments\\ME44312-2\\Lib\\site-packages\\acnportal\\acnsim\\simulator.py:277: UserWarning: Invalid schedule provided at iteration 245. Max violation is 47.99999 A on AV Pod at time index 0.\n",
      "  warnings.warn(\n",
      "c:\\Users\\alene\\Virtual_environments\\ME44312-2\\Lib\\site-packages\\acnportal\\acnsim\\simulator.py:277: UserWarning: Invalid schedule provided at iteration 246. Max violation is 47.99999 A on AV Pod at time index 0.\n",
      "  warnings.warn(\n",
      "c:\\Users\\alene\\Virtual_environments\\ME44312-2\\Lib\\site-packages\\acnportal\\acnsim\\simulator.py:277: UserWarning: Invalid schedule provided at iteration 247. Max violation is 47.99999 A on AV Pod at time index 0.\n",
      "  warnings.warn(\n",
      "c:\\Users\\alene\\Virtual_environments\\ME44312-2\\Lib\\site-packages\\acnportal\\acnsim\\simulator.py:277: UserWarning: Invalid schedule provided at iteration 248. Max violation is 47.99999 A on AV Pod at time index 0.\n",
      "  warnings.warn(\n",
      "c:\\Users\\alene\\Virtual_environments\\ME44312-2\\Lib\\site-packages\\acnportal\\acnsim\\simulator.py:277: UserWarning: Invalid schedule provided at iteration 249. Max violation is 15.999989999999997 A on AV Pod at time index 0.\n",
      "  warnings.warn(\n",
      "c:\\Users\\alene\\Virtual_environments\\ME44312-2\\Lib\\site-packages\\acnportal\\acnsim\\simulator.py:277: UserWarning: Invalid schedule provided at iteration 250. Max violation is 15.999989999999997 A on AV Pod at time index 0.\n",
      "  warnings.warn(\n",
      "c:\\Users\\alene\\Virtual_environments\\ME44312-2\\Lib\\site-packages\\acnportal\\acnsim\\simulator.py:277: UserWarning: Invalid schedule provided at iteration 251. Max violation is 15.999989999999997 A on AV Pod at time index 0.\n",
      "  warnings.warn(\n",
      "c:\\Users\\alene\\Virtual_environments\\ME44312-2\\Lib\\site-packages\\acnportal\\acnsim\\simulator.py:277: UserWarning: Invalid schedule provided at iteration 252. Max violation is 15.999989999999997 A on AV Pod at time index 0.\n",
      "  warnings.warn(\n",
      "c:\\Users\\alene\\Virtual_environments\\ME44312-2\\Lib\\site-packages\\acnportal\\acnsim\\simulator.py:277: UserWarning: Invalid schedule provided at iteration 253. Max violation is 15.999989999999997 A on AV Pod at time index 0.\n",
      "  warnings.warn(\n",
      "c:\\Users\\alene\\Virtual_environments\\ME44312-2\\Lib\\site-packages\\acnportal\\acnsim\\simulator.py:277: UserWarning: Invalid schedule provided at iteration 254. Max violation is 15.999989999999997 A on AV Pod at time index 0.\n",
      "  warnings.warn(\n",
      "c:\\Users\\alene\\Virtual_environments\\ME44312-2\\Lib\\site-packages\\acnportal\\acnsim\\simulator.py:277: UserWarning: Invalid schedule provided at iteration 255. Max violation is 15.999989999999997 A on AV Pod at time index 0.\n",
=======
      "c:\\Users\\thijs\\anaconda3\\envs\\ME44312\\Lib\\site-packages\\acnportal\\acnsim\\simulator.py:277: UserWarning: Invalid schedule provided at iteration 84. Max violation is 15.999989999999997 A on AV Pod at time index 0.\n",
      "  warnings.warn(\n",
      "c:\\Users\\thijs\\anaconda3\\envs\\ME44312\\Lib\\site-packages\\acnportal\\acnsim\\simulator.py:277: UserWarning: Invalid schedule provided at iteration 85. Max violation is 15.999989999999997 A on AV Pod at time index 0.\n",
      "  warnings.warn(\n",
      "c:\\Users\\thijs\\anaconda3\\envs\\ME44312\\Lib\\site-packages\\acnportal\\acnsim\\simulator.py:277: UserWarning: Invalid schedule provided at iteration 86. Max violation is 15.999989999999997 A on AV Pod at time index 0.\n",
      "  warnings.warn(\n",
      "c:\\Users\\thijs\\anaconda3\\envs\\ME44312\\Lib\\site-packages\\acnportal\\acnsim\\simulator.py:277: UserWarning: Invalid schedule provided at iteration 87. Max violation is 15.999989999999997 A on AV Pod at time index 0.\n",
      "  warnings.warn(\n",
      "c:\\Users\\thijs\\anaconda3\\envs\\ME44312\\Lib\\site-packages\\acnportal\\acnsim\\simulator.py:277: UserWarning: Invalid schedule provided at iteration 88. Max violation is 15.999989999999997 A on AV Pod at time index 0.\n",
      "  warnings.warn(\n",
      "c:\\Users\\thijs\\anaconda3\\envs\\ME44312\\Lib\\site-packages\\acnportal\\acnsim\\simulator.py:277: UserWarning: Invalid schedule provided at iteration 89. Max violation is 47.99999 A on AV Pod at time index 0.\n",
      "  warnings.warn(\n",
      "c:\\Users\\thijs\\anaconda3\\envs\\ME44312\\Lib\\site-packages\\acnportal\\acnsim\\simulator.py:277: UserWarning: Invalid schedule provided at iteration 90. Max violation is 47.99999 A on AV Pod at time index 0.\n",
      "  warnings.warn(\n",
      "c:\\Users\\thijs\\anaconda3\\envs\\ME44312\\Lib\\site-packages\\acnportal\\acnsim\\simulator.py:277: UserWarning: Invalid schedule provided at iteration 91. Max violation is 47.99999 A on AV Pod at time index 0.\n",
      "  warnings.warn(\n",
      "c:\\Users\\thijs\\anaconda3\\envs\\ME44312\\Lib\\site-packages\\acnportal\\acnsim\\simulator.py:277: UserWarning: Invalid schedule provided at iteration 92. Max violation is 15.999989999999997 A on AV Pod at time index 0.\n",
      "  warnings.warn(\n",
      "c:\\Users\\thijs\\anaconda3\\envs\\ME44312\\Lib\\site-packages\\acnportal\\acnsim\\simulator.py:277: UserWarning: Invalid schedule provided at iteration 93. Max violation is 47.99999 A on AV Pod at time index 0.\n",
      "  warnings.warn(\n",
      "c:\\Users\\thijs\\anaconda3\\envs\\ME44312\\Lib\\site-packages\\acnportal\\acnsim\\simulator.py:277: UserWarning: Invalid schedule provided at iteration 94. Max violation is 47.99999 A on AV Pod at time index 0.\n",
      "  warnings.warn(\n",
      "c:\\Users\\thijs\\anaconda3\\envs\\ME44312\\Lib\\site-packages\\acnportal\\acnsim\\simulator.py:277: UserWarning: Invalid schedule provided at iteration 95. Max violation is 79.99999 A on AV Pod at time index 0.\n",
      "  warnings.warn(\n",
      "c:\\Users\\thijs\\anaconda3\\envs\\ME44312\\Lib\\site-packages\\acnportal\\acnsim\\simulator.py:277: UserWarning: Invalid schedule provided at iteration 96. Max violation is 79.99999 A on AV Pod at time index 0.\n",
      "  warnings.warn(\n",
      "c:\\Users\\thijs\\anaconda3\\envs\\ME44312\\Lib\\site-packages\\acnportal\\acnsim\\simulator.py:277: UserWarning: Invalid schedule provided at iteration 97. Max violation is 79.99999 A on AV Pod at time index 0.\n",
      "  warnings.warn(\n",
      "c:\\Users\\thijs\\anaconda3\\envs\\ME44312\\Lib\\site-packages\\acnportal\\acnsim\\simulator.py:277: UserWarning: Invalid schedule provided at iteration 98. Max violation is 79.99999 A on AV Pod at time index 0.\n",
      "  warnings.warn(\n",
      "c:\\Users\\thijs\\anaconda3\\envs\\ME44312\\Lib\\site-packages\\acnportal\\acnsim\\simulator.py:277: UserWarning: Invalid schedule provided at iteration 99. Max violation is 79.99999 A on AV Pod at time index 0.\n",
      "  warnings.warn(\n",
      "c:\\Users\\thijs\\anaconda3\\envs\\ME44312\\Lib\\site-packages\\acnportal\\acnsim\\simulator.py:277: UserWarning: Invalid schedule provided at iteration 100. Max violation is 79.99999 A on AV Pod at time index 0.\n",
      "  warnings.warn(\n",
      "c:\\Users\\thijs\\anaconda3\\envs\\ME44312\\Lib\\site-packages\\acnportal\\acnsim\\simulator.py:277: UserWarning: Invalid schedule provided at iteration 101. Max violation is 79.99999 A on AV Pod at time index 0.\n",
      "  warnings.warn(\n",
      "c:\\Users\\thijs\\anaconda3\\envs\\ME44312\\Lib\\site-packages\\acnportal\\acnsim\\simulator.py:277: UserWarning: Invalid schedule provided at iteration 102. Max violation is 79.99999 A on CC Pod at time index 0.\n",
      "  warnings.warn(\n",
      "c:\\Users\\thijs\\anaconda3\\envs\\ME44312\\Lib\\site-packages\\acnportal\\acnsim\\simulator.py:277: UserWarning: Invalid schedule provided at iteration 103. Max violation is 79.99999 A on CC Pod at time index 0.\n",
      "  warnings.warn(\n",
      "c:\\Users\\thijs\\anaconda3\\envs\\ME44312\\Lib\\site-packages\\acnportal\\acnsim\\simulator.py:277: UserWarning: Invalid schedule provided at iteration 104. Max violation is 79.99999 A on CC Pod at time index 0.\n",
      "  warnings.warn(\n",
      "c:\\Users\\thijs\\anaconda3\\envs\\ME44312\\Lib\\site-packages\\acnportal\\acnsim\\simulator.py:277: UserWarning: Invalid schedule provided at iteration 105. Max violation is 111.99999 A on CC Pod at time index 0.\n",
      "  warnings.warn(\n",
      "c:\\Users\\thijs\\anaconda3\\envs\\ME44312\\Lib\\site-packages\\acnportal\\acnsim\\simulator.py:277: UserWarning: Invalid schedule provided at iteration 106. Max violation is 112.06009587279908 A on Secondary A at time index 0.\n",
      "  warnings.warn(\n",
      "c:\\Users\\thijs\\anaconda3\\envs\\ME44312\\Lib\\site-packages\\acnportal\\acnsim\\simulator.py:277: UserWarning: Invalid schedule provided at iteration 107. Max violation is 83.18930259135931 A on Secondary A at time index 0.\n",
      "  warnings.warn(\n",
      "c:\\Users\\thijs\\anaconda3\\envs\\ME44312\\Lib\\site-packages\\acnportal\\acnsim\\simulator.py:277: UserWarning: Invalid schedule provided at iteration 108. Max violation is 112.06009587279908 A on Secondary A at time index 0.\n",
      "  warnings.warn(\n",
      "c:\\Users\\thijs\\anaconda3\\envs\\ME44312\\Lib\\site-packages\\acnportal\\acnsim\\simulator.py:277: UserWarning: Invalid schedule provided at iteration 109. Max violation is 110.11980759427178 A on Secondary A at time index 0.\n",
      "  warnings.warn(\n",
      "c:\\Users\\thijs\\anaconda3\\envs\\ME44312\\Lib\\site-packages\\acnportal\\acnsim\\simulator.py:277: UserWarning: Invalid schedule provided at iteration 110. Max violation is 138.51257366605233 A on Secondary A at time index 0.\n",
      "  warnings.warn(\n",
      "c:\\Users\\thijs\\anaconda3\\envs\\ME44312\\Lib\\site-packages\\acnportal\\acnsim\\simulator.py:277: UserWarning: Invalid schedule provided at iteration 111. Max violation is 138.51257366605233 A on Secondary A at time index 0.\n",
      "  warnings.warn(\n",
      "c:\\Users\\thijs\\anaconda3\\envs\\ME44312\\Lib\\site-packages\\acnportal\\acnsim\\simulator.py:277: UserWarning: Invalid schedule provided at iteration 112. Max violation is 27.891530995727067 A on Secondary A at time index 0.\n",
      "  warnings.warn(\n",
      "c:\\Users\\thijs\\anaconda3\\envs\\ME44312\\Lib\\site-packages\\acnportal\\acnsim\\simulator.py:277: UserWarning: Invalid schedule provided at iteration 113. Max violation is 15.999989999999997 A on CC Pod at time index 0.\n",
      "  warnings.warn(\n",
      "c:\\Users\\thijs\\anaconda3\\envs\\ME44312\\Lib\\site-packages\\acnportal\\acnsim\\simulator.py:277: UserWarning: Invalid schedule provided at iteration 114. Max violation is 15.999989999999997 A on CC Pod at time index 0.\n",
      "  warnings.warn(\n",
      "c:\\Users\\thijs\\anaconda3\\envs\\ME44312\\Lib\\site-packages\\acnportal\\acnsim\\simulator.py:277: UserWarning: Invalid schedule provided at iteration 115. Max violation is 15.999989999999997 A on CC Pod at time index 0.\n",
      "  warnings.warn(\n",
      "c:\\Users\\thijs\\anaconda3\\envs\\ME44312\\Lib\\site-packages\\acnportal\\acnsim\\simulator.py:277: UserWarning: Invalid schedule provided at iteration 116. Max violation is 15.999989999999997 A on CC Pod at time index 0.\n",
      "  warnings.warn(\n",
      "c:\\Users\\thijs\\anaconda3\\envs\\ME44312\\Lib\\site-packages\\acnportal\\acnsim\\simulator.py:277: UserWarning: Invalid schedule provided at iteration 117. Max violation is 15.999989999999997 A on CC Pod at time index 0.\n",
      "  warnings.warn(\n",
      "c:\\Users\\thijs\\anaconda3\\envs\\ME44312\\Lib\\site-packages\\acnportal\\acnsim\\simulator.py:277: UserWarning: Invalid schedule provided at iteration 162. Max violation is 15.999989999999997 A on CC Pod at time index 0.\n",
      "  warnings.warn(\n",
      "c:\\Users\\thijs\\anaconda3\\envs\\ME44312\\Lib\\site-packages\\acnportal\\acnsim\\simulator.py:277: UserWarning: Invalid schedule provided at iteration 245. Max violation is 47.99999 A on AV Pod at time index 0.\n",
      "  warnings.warn(\n",
      "c:\\Users\\thijs\\anaconda3\\envs\\ME44312\\Lib\\site-packages\\acnportal\\acnsim\\simulator.py:277: UserWarning: Invalid schedule provided at iteration 246. Max violation is 47.99999 A on AV Pod at time index 0.\n",
      "  warnings.warn(\n",
      "c:\\Users\\thijs\\anaconda3\\envs\\ME44312\\Lib\\site-packages\\acnportal\\acnsim\\simulator.py:277: UserWarning: Invalid schedule provided at iteration 247. Max violation is 47.99999 A on AV Pod at time index 0.\n",
      "  warnings.warn(\n",
      "c:\\Users\\thijs\\anaconda3\\envs\\ME44312\\Lib\\site-packages\\acnportal\\acnsim\\simulator.py:277: UserWarning: Invalid schedule provided at iteration 248. Max violation is 47.99999 A on AV Pod at time index 0.\n",
      "  warnings.warn(\n",
      "c:\\Users\\thijs\\anaconda3\\envs\\ME44312\\Lib\\site-packages\\acnportal\\acnsim\\simulator.py:277: UserWarning: Invalid schedule provided at iteration 249. Max violation is 15.999989999999997 A on AV Pod at time index 0.\n",
      "  warnings.warn(\n",
      "c:\\Users\\thijs\\anaconda3\\envs\\ME44312\\Lib\\site-packages\\acnportal\\acnsim\\simulator.py:277: UserWarning: Invalid schedule provided at iteration 250. Max violation is 15.999989999999997 A on AV Pod at time index 0.\n",
      "  warnings.warn(\n",
      "c:\\Users\\thijs\\anaconda3\\envs\\ME44312\\Lib\\site-packages\\acnportal\\acnsim\\simulator.py:277: UserWarning: Invalid schedule provided at iteration 251. Max violation is 15.999989999999997 A on AV Pod at time index 0.\n",
      "  warnings.warn(\n",
      "c:\\Users\\thijs\\anaconda3\\envs\\ME44312\\Lib\\site-packages\\acnportal\\acnsim\\simulator.py:277: UserWarning: Invalid schedule provided at iteration 252. Max violation is 15.999989999999997 A on AV Pod at time index 0.\n",
      "  warnings.warn(\n",
      "c:\\Users\\thijs\\anaconda3\\envs\\ME44312\\Lib\\site-packages\\acnportal\\acnsim\\simulator.py:277: UserWarning: Invalid schedule provided at iteration 253. Max violation is 15.999989999999997 A on AV Pod at time index 0.\n",
      "  warnings.warn(\n",
      "c:\\Users\\thijs\\anaconda3\\envs\\ME44312\\Lib\\site-packages\\acnportal\\acnsim\\simulator.py:277: UserWarning: Invalid schedule provided at iteration 254. Max violation is 15.999989999999997 A on AV Pod at time index 0.\n",
      "  warnings.warn(\n",
      "c:\\Users\\thijs\\anaconda3\\envs\\ME44312\\Lib\\site-packages\\acnportal\\acnsim\\simulator.py:277: UserWarning: Invalid schedule provided at iteration 255. Max violation is 15.999989999999997 A on AV Pod at time index 0.\n",
>>>>>>> db595fc0b6f4e35ddf6e4a0e2b4f51d56cd3078a
      "  warnings.warn(\n"
     ]
    }
   ],
   "source": [
    "sim.run()"
   ]
  },
  {
   "cell_type": "markdown",
   "metadata": {},
   "source": [
    "### Analysis\n",
    "\n",
    "Once the simulator has been run, we can analyze the results. For this purpose acnsim offers a package called analysis. One thing we may be interested in is the proportion of total users’ energy demand that we were able to meet. To find this we can use the proportion_of_energy_delivered() method from the analysis subpackage. The only argument to this function is the Simulator object itself.\n",
    "\n"
   ]
  },
  {
   "cell_type": "code",
<<<<<<< HEAD
   "execution_count": 11,
=======
   "execution_count": 17,
>>>>>>> db595fc0b6f4e35ddf6e4a0e2b4f51d56cd3078a
   "metadata": {},
   "outputs": [
    {
     "name": "stdout",
     "output_type": "stream",
     "text": [
      "Proportion of requested energy delivered: 0.9999999999999998\n"
     ]
    }
   ],
   "source": [
    "total_energy_prop = acnsim.proportion_of_energy_delivered(sim)\n",
    "print('Proportion of requested energy delivered: {0}'.format(total_energy_prop))"
   ]
  },
  {
   "cell_type": "markdown",
   "metadata": {},
   "source": [
    "We may also be interested in the peak demand of the system as this determines our big the root transformers and cables in our system must be as well as the demand charge we may have to pay. The Simulator has a built in property which keeps track of this peak usage called peak."
   ]
  },
  {
   "cell_type": "code",
<<<<<<< HEAD
   "execution_count": 12,
=======
   "execution_count": 18,
>>>>>>> db595fc0b6f4e35ddf6e4a0e2b4f51d56cd3078a
   "metadata": {},
   "outputs": [
    {
     "name": "stdout",
     "output_type": "stream",
     "text": [
      "Peak aggregate current: 704.0 A\n"
     ]
    }
   ],
   "source": [
    "print('Peak aggregate current: {0} A'.format(sim.peak))"
   ]
  },
  {
   "cell_type": "markdown",
   "metadata": {},
   "source": [
    "Finally, we can plot the output of our simulation. For now we will just plot total aggregate current draw:"
   ]
  },
  {
   "cell_type": "code",
<<<<<<< HEAD
   "execution_count": 13,
=======
   "execution_count": 19,
>>>>>>> db595fc0b6f4e35ddf6e4a0e2b4f51d56cd3078a
   "metadata": {},
   "outputs": [
    {
     "data": {
<<<<<<< HEAD
      "image/png": "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",
=======
      "image/png": "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",
>>>>>>> db595fc0b6f4e35ddf6e4a0e2b4f51d56cd3078a
      "text/plain": [
       "<Figure size 640x480 with 1 Axes>"
      ]
     },
     "metadata": {},
     "output_type": "display_data"
    }
   ],
   "source": [
    "# Plotting aggregate current\n",
    "agg_current = acnsim.aggregate_current(sim)\n",
    "plt.plot(agg_current)\n",
    "plt.xlabel('Time (periods)')\n",
    "plt.ylabel('Current (A)')\n",
    "plt.title('Total Aggregate Current')\n",
    "plt.show()"
   ]
  },
  {
   "cell_type": "code",
   "execution_count": null,
   "metadata": {},
   "outputs": [],
   "source": []
  }
 ],
 "metadata": {
  "kernelspec": {
<<<<<<< HEAD
   "display_name": "ME44312-2",
=======
   "display_name": "ME44312",
>>>>>>> db595fc0b6f4e35ddf6e4a0e2b4f51d56cd3078a
   "language": "python",
   "name": "python3"
  },
  "language_info": {
   "codemirror_mode": {
    "name": "ipython",
    "version": 3
   },
   "file_extension": ".py",
   "mimetype": "text/x-python",
   "name": "python",
   "nbconvert_exporter": "python",
   "pygments_lexer": "ipython3",
<<<<<<< HEAD
   "version": "3.12.7"
=======
   "version": "3.13.2"
>>>>>>> db595fc0b6f4e35ddf6e4a0e2b4f51d56cd3078a
  }
 },
 "nbformat": 4,
 "nbformat_minor": 2
}
